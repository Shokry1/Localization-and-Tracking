{
  "nbformat": 4,
  "nbformat_minor": 0,
  "metadata": {
    "colab": {
      "name": "Programming Assignment I.ipynb",
      "provenance": [],
      "authorship_tag": "ABX9TyP8SBmb9G/vo9fFkV/ug8k4",
      "include_colab_link": true
    },
    "kernelspec": {
      "name": "python3",
      "display_name": "Python 3"
    }
  },
  "cells": [
    {
      "cell_type": "markdown",
      "metadata": {
        "id": "view-in-github",
        "colab_type": "text"
      },
      "source": [
        "<a href=\"https://colab.research.google.com/github/Shokry1/Localization-and-Tracking/blob/main/Programming_Assignment_I.ipynb\" target=\"_parent\"><img src=\"https://colab.research.google.com/assets/colab-badge.svg\" alt=\"Open In Colab\"/></a>"
      ]
    },
    {
      "cell_type": "markdown",
      "metadata": {
        "id": "G3G2EA457RY-"
      },
      "source": [
        "# 1. Objective\n",
        "*   Know more about fingerprinting localization techniques.\n",
        "*   Learn about the different distance metrics (Euclidean, Manhattan).\n",
        "*   Review python programming.\n",
        "*   Learn how to implement and evaluate localization systems.\n",
        "\n",
        "# 2. Problem statement\n",
        ">## Offline phase\n",
        "The problem we are trying to solve here is finding user estimated location from a scan of the received signal strength (RSS) coming from the different APs in the environment using fingerprinting techniques. The input to the problem is the fingerprint (which is collected in an offline calibration phase). The fingerprint is the RSS from the different APs in the environment geo-tagged with the location. The following code defines a fingerprint with 24 RSS samples with their fingerprinting locations *fingerprint_locs*. Each sample in the fingerprint consists of a scan of the RSS coming from the different APs (mainly four APs) and the groundtruth location (the true location). e.g the first sample has RSS scan from four APs: [-64., -73., -70., -85.] dBm and its true location is [11.74, 6.76] meter.\n"
      ]
    },
    {
      "cell_type": "code",
      "metadata": {
        "id": "kXTZXO0t7DqU"
      },
      "source": [
        "'''\n",
        "Fingerprint data\n",
        "'''\n",
        "fingerprint_rss = [[-64., -73., -70., -85.], \\\n",
        "                   [-57., -63., -81., -84.], \\\n",
        "                   [-54., -51., -75., -75.], \\\n",
        "                   [-45., -72., -90., -54.], \\\n",
        "                   [-69., -84., -100., -81.], \\\n",
        "                   [-55., -100., -66., -84.], \\\n",
        "                   [-54., -60., -69., -84.], \\\n",
        "                   [-39., -65., -78., -69.], \\\n",
        "                   [-84., -69., -69., -57.], \\\n",
        "                   [-65., -100., -100., -77.], \\\n",
        "                   [-69., -100., -87., -100.], \\\n",
        "                   [-63., -75., -90., -100.], \\\n",
        "                   [-84., -78., -84., -81.], \\\n",
        "                   [-70., -73., -85., -88.], \\\n",
        "                   [-61., -61., -91., -85.], \\\n",
        "                   [-79., -85., -67., -100.], \\\n",
        "                   [-87., -84., -78., -100.], \\\n",
        "                   [-78., -100., -66., -100.], \\\n",
        "                   [-87., -100., -39., -100.], \\\n",
        "                   [-67., -100., -100., -85.], \\\n",
        "                   [-70., -85., -100., -79.], \\\n",
        "                   [-69., -100., -100., -90.], \\\n",
        "                   [-100., -100., -82., -100.], \\\n",
        "                   [-83., -93., -77., -100.]]  # dBm\n",
        "\n",
        "# location coordinates are in pixels to comvert it to meters divide by 100 (first location is 11.174 in x direction and 6.76 in y direction) \n",
        "\n",
        "fingerprint_locs = [[1174, 676], \\\n",
        "                    [1586, 695], \\\n",
        "                    [2000, 670], \\\n",
        "                    [2376, 694], \\\n",
        "                    [2783, 998], \\\n",
        "                    [1256, 688], \\\n",
        "                    [1644, 674], \\\n",
        "                    [2043, 677], \\\n",
        "                    [2462, 678], \\\n",
        "                    [2860, 1083], \\\n",
        "                    [1149, 1406], \\\n",
        "                    [2157, 1103], \\\n",
        "                    [1744, 1128], \\\n",
        "                    [1206, 359], \\\n",
        "                    [1764, 350], \\\n",
        "                    [500, 252], \\\n",
        "                    [800, 247], \\\n",
        "                    [704, 659], \\\n",
        "                    [247, 650], \\\n",
        "                    [2197, 252], \\\n",
        "                    [2675, 347], \\\n",
        "                    [3146, 309], \\\n",
        "                    [826, 1169], \\\n",
        "                    [413, 1160]] "
      ],
      "execution_count": null,
      "outputs": []
    },
    {
      "cell_type": "markdown",
      "metadata": {
        "id": "IY2lrDel7dpx"
      },
      "source": [
        "\n",
        ">## Online phase\n",
        "In the online tracking phase, a user stands at unknown location hears RSS vector from the different APs in the environment. Your algorithm compares the online RSS with the RSS vectors stored at each fingerprint location and the location in the fingerprint that has the lowest distance (highest similarity) becomes the estimated location. The Euclidean distance is defined as ,\n",
        "> > > > > $d_e\\left( p,q\\right)   = \\sqrt {\\sum _{i=1}^{n}  \\left( q_{i}-p_{i}\\right)^2 }$\n",
        "\n",
        "> Where $p$ and $q$ are two RSS vector and $d_e(p,q)$ is the Euclidean distance between $p$ and $q$. The Manhattan distance is defined as,\n",
        "\n",
        "\n",
        "> > > > > $d_m\\left( p,q\\right)   = \\sqrt {\\sum _{i=1}^{n}  \\left| q_{i}-p_{i}\\right| }$\n",
        "\n",
        "\n",
        "> Where $p$ and $q$ are two RSS vector and $d_m(p,q)$ is the Manhattan distance between $p$ and $q$. \n",
        "\n"
      ]
    },
    {
      "cell_type": "code",
      "metadata": {
        "id": "l99AklDz7nGT"
      },
      "source": [
        "\"\"\"\n",
        "Distance Functions\n",
        "\"\"\"\n",
        "'''\n",
        "    @:param p and q are two RSS vectors \n",
        "    The function returns the Euclidean distance \n",
        "    between p and q\n",
        "'''\n",
        "def euclidean_distance(p, q):\n",
        "    dist = 0.0\n",
        "    # your code for euclidean distance calculation is here\n",
        "    return dist\n",
        "\n",
        "\"\"\"\n",
        "    @:param p and q are two RSS vectors \n",
        "    The function returns the Manhattan distance \n",
        "    between p and q\n",
        "\"\"\"\n",
        "def manhattan_distance(p, q):\n",
        "    dist = 0.0\n",
        "    # your code for Manhattan distance calculation is here\n",
        "    return dist"
      ],
      "execution_count": null,
      "outputs": []
    },
    {
      "cell_type": "markdown",
      "metadata": {
        "id": "uXYfTaeC7wIN"
      },
      "source": [
        "\n",
        "It is required to implement the following function that takes the Fingerprint (fingerprint_rss, fingerprint_locs) and test data (test_rss, test_locs). Then, the function returns a list of the localization error."
      ]
    },
    {
      "cell_type": "code",
      "metadata": {
        "id": "YddHCJUr8Gb_"
      },
      "source": [
        "\"\"\"\n",
        "Localization system\n",
        "\"\"\"\n",
        "def radar_localization(fingerprint_rss, fingerprint_locs, test_rss, test_locs):\n",
        "    localization_error = []\n",
        "    # your code for RADAR system is here\n",
        "    '''\n",
        "    for each sample s in the test data:\n",
        "        Calculate the distance from s RSS to all Fingerprints RSS vectors (using Euclidean or Manhattan distance)\n",
        "        Choose the fingerprint location with the minimum distance (maximum similarity) to be the estimated location for this sample \n",
        "        calculate the error in the sample s, which is the distance between the estimated location and the true location\n",
        "    '''\n",
        "    return localization_error"
      ],
      "execution_count": null,
      "outputs": []
    },
    {
      "cell_type": "markdown",
      "metadata": {
        "id": "OWZqYEMf8U6H"
      },
      "source": [
        "The test data is defined as follows,"
      ]
    },
    {
      "cell_type": "code",
      "metadata": {
        "id": "kdtIzzvJylwU"
      },
      "source": [
        "'''\n",
        "Test data\n",
        "'''\n",
        "test_rss = [[-55., -66., -67., -85.], \\\n",
        "            [-60., -63., -81., -72.], \\\n",
        "            [-34., -100., -90., -78.], \\\n",
        "            [-45., -69., -81., -60.], \\\n",
        "            [-84., -100., -100., -84.], \\\n",
        "            [-51., -60., -69., -78.], \\\n",
        "            [-50., -74., -78., -75.], \\\n",
        "            [-39., -63., -75., -78.], \\\n",
        "            [-42., -68., -69., -72.], \\\n",
        "            [-72., -100., -100., -84.], \\\n",
        "            [-72., -78., -90., -84.], \\\n",
        "            [-66., -81., -100., -72.], \\\n",
        "            [-69., -65., -84., -87.], \\\n",
        "            [-61., -79., -90., -81.], \\\n",
        "            [-60., -63., -81., -84.], \\\n",
        "            [-75., -84., -81., -100.], \\\n",
        "            [-81., -100., -81., -100.], \\\n",
        "            [-78., -100., -66., -100.], \\\n",
        "            [-90., -100., -54., -100.], \\\n",
        "            [-51., -72., -100., -81.], \\\n",
        "            [-73., -100., -100., -82.], \\\n",
        "            [-78., -87., -100., -90.], \\\n",
        "            [-75., -87., -81., -100.], \\\n",
        "            [-80., -91., -62., -100.]] # dBm\n",
        "\n",
        "test_locs = [[1380, 677], \\\n",
        "             [1786, 666], \\\n",
        "             [2176, 675], \\\n",
        "             [2572, 666], \\\n",
        "             [2780, 1186], \\\n",
        "             [1461, 687], \\\n",
        "             [1855, 681], \\\n",
        "             [2266, 689], \\\n",
        "             [2662, 690], \\\n",
        "             [2856, 1299], \\\n",
        "             [1738, 1419], \\\n",
        "             [2351, 917], \\\n",
        "             [1366, 1003], \\\n",
        "             [1418, 346], \\\n",
        "             [1950, 348], \\\n",
        "             [807, 441], \\\n",
        "             [482, 447], \\\n",
        "             [694, 956], \\\n",
        "             [258, 831], \\\n",
        "             [2407, 260], \\\n",
        "             [2964, 362], \\\n",
        "             [3465, 301], \\\n",
        "             [822, 1471], \\\n",
        "             [611, 1268]] # location coordinates are in pixels to comvert it to meters divide by 100 "
      ],
      "execution_count": null,
      "outputs": []
    },
    {
      "cell_type": "markdown",
      "metadata": {
        "id": "yPQ7c1UOPKDW"
      },
      "source": [
        "# 3. Requirements\n",
        "It is required to implement the following,\n",
        "*   The distance functions, *euclidean_distance()* and *manhattan_distance()*\n",
        "*   RADAR system function, *radar_localization()* that uses the previous functions to get the estimated location.\n",
        "*   Draw the Cumulative distribution function (CDF) for the distance error using the proposed test data.\n",
        "\n",
        "\n",
        "# 4. Bonus\n",
        "\n",
        "\n",
        "*   Study the effect of the different parameters like (number of APs, number of fingerprint points,..)\n",
        "*   Visualize the fingerprint.\n",
        "\n",
        "\n",
        "# 5. Possible resources\n",
        "\n",
        "\n",
        "*   [RADAR paper](https://www.microsoft.com/en-us/research/wp-content/uploads/2016/02/infocom2000.pdf)\n",
        "*   [Draw CDF in Python](https://stackoverflow.com/questions/15408371/cumulative-distribution-plots-python)\n",
        "\n",
        "# 6. Final notes\n",
        "\n",
        "*   It is reuired to deliver the notebook with RADAR implementation, the CDF and the error statistics (mean and median).\n",
        "*   Assignment delivery date is on Tuesday **Mar 2**.\n",
        "\n",
        "\n",
        "\n",
        "\n",
        "\n",
        "\n",
        "\n"
      ]
    }
  ]
}