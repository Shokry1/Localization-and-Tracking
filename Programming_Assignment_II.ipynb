{
  "nbformat": 4,
  "nbformat_minor": 0,
  "metadata": {
    "colab": {
      "name": "Programming Assignment II.ipynb",
      "provenance": [],
      "authorship_tag": "ABX9TyPLPIa3TKafODPSAiY2cefu",
      "include_colab_link": true
    },
    "kernelspec": {
      "name": "python3",
      "display_name": "Python 3"
    }
  },
  "cells": [
    {
      "cell_type": "markdown",
      "metadata": {
        "id": "view-in-github",
        "colab_type": "text"
      },
      "source": [
        "<a href=\"https://colab.research.google.com/github/Shokry1/Localization-and-Tracking/blob/main/Programming_Assignment_II.ipynb\" target=\"_parent\"><img src=\"https://colab.research.google.com/assets/colab-badge.svg\" alt=\"Open In Colab\"/></a>"
      ]
    },
    {
      "cell_type": "markdown",
      "metadata": {
        "id": "G3G2EA457RY-"
      },
      "source": [
        "# 1. Objective\n",
        "*   Learn how to parse and extract meaningful information from an existing dataset.\n",
        "*   Know more about propagation models-based localization techniques.\n",
        "*   Learn to implement Centroid and Weighted Centroid.\n",
        "\n",
        "# 2. Problem statement\n",
        "The problem we are trying to solve here is finding user estimated location from a scan of the received signal strength (RSS) coming from the different APs in the environment using centroid-based techniques. The input to the problem is the scans file, *SCANS.txt*, which contains the online RSS scans from the existing APs in the environment. Each scan consists of the RSS coming from the different APs and the groundtruth location (the true location). Also, input to the problem the locations of APs in *APs_locs_3D.txt*.\n",
        "\n",
        "\n",
        ">## A. Extract meaningful information\n",
        "The first task is to load the important information (APs locations, Scans RSS with GT location)\n"
      ]
    },
    {
      "cell_type": "code",
      "metadata": {
        "id": "kXTZXO0t7DqU"
      },
      "source": [
        "'''\n",
        "1. load APs locations from APs_locs_3D.txt\n",
        "    each line consists of MAC, SSID, X, Y, Z\n",
        "    X,Y coordinates on a map with origin at the upper left corner, X increasing to the right, and Y increasing down; Z indicates the height of the AP:\n",
        "    X, Y are in pixels. To convert them to meter, you need to divide by 100. Z is in meter (you can skip it). \n",
        "\n",
        "2. load scans RSS with GT locations from SCANS.txt\n",
        "    The file contains 13 points. At each point there are two wifi scans, for total 26 wifi scans.\n",
        "    File format:\n",
        "      START_POINT_<x>_<y>_<timestamp>: this line indicates the start of the collection at a certain ground truth point.\n",
        "      <x> and <y> indicate the pixel location on the floor plan image. To convert them to actual coordinates in meter you need to divide by 100. \n",
        "      <timestamp> indicates the time when the ground truth was selected\n",
        "      After the START_POINT tag: 2 WiFi scans are performed at each location\n",
        "        START_WIFI_SCAN_<timestamp> : indicates the start of a WiFi scan\n",
        "            The format in which normal AP info is logged is as follows:\n",
        "                44:07:0b:19:ff:80,grouter,-40,false,2437,0,0,0\n",
        "                MAC, ssid, rss(dBm), rtt-capable, frequency, center frequency0, center frequency1, channel width\n",
        "                You can see the important information is: MAC address (AP ID) and the RSS only\n",
        "\n",
        "3. Important notes\n",
        "    the last 2 digits of the MAC address change randomly during operation. So, to identify the APs you need to skip the last two digits. \n",
        "    For example: in the scan file the AP 44:07:0b:15:d4:3e is actually 44:07:0b:15:d4:37\n",
        "'''"
      ],
      "execution_count": null,
      "outputs": []
    },
    {
      "cell_type": "markdown",
      "metadata": {
        "id": "IY2lrDel7dpx"
      },
      "source": [
        "\n",
        ">## B. Centroid\n",
        "In the online tracking phase, a user stands at unknown location hears RSS vector from the different APs in the environment. The estimated location is the centroid of APs locations (note that we don't take the RSS into account). The centroid of a finite set of $k$ heard APs $X$ = ($x_1$, $x_2$, ..,$x_k$) is \n",
        "> > > > > $C\\left( X\\right)   = \\frac{x_1+ x_2+....+x_k}{k}$\n",
        "\n",
        "\n"
      ]
    },
    {
      "cell_type": "code",
      "metadata": {
        "id": "l99AklDz7nGT"
      },
      "source": [
        "'''\n",
        "1. For each scan\n",
        "      Get WiFi APs locations heard in this scan\n",
        "      Get the centroid of APs locations to be the estimated location\n",
        "      Get the localization error as the Euclidean distance between GT location  and the estimated location\n",
        "\n",
        "2. Draw the CDF for the localization error\n",
        "\n",
        "'''"
      ],
      "execution_count": null,
      "outputs": []
    },
    {
      "cell_type": "markdown",
      "metadata": {
        "id": "uXYfTaeC7wIN"
      },
      "source": [
        "\n",
        ">## C. Weighted Centroid\n",
        "The Weighted centroid is the same as the Centroid technique except that it weights the APs locations. Here, we weight the APs locations with the AP RSS. The intuation here is that the stronger signal from AP indicates to closer distance between user location and AP location. \n",
        "\n",
        "\n"
      ]
    },
    {
      "cell_type": "code",
      "metadata": {
        "id": "YddHCJUr8Gb_"
      },
      "source": [
        "'''\n",
        "1. For each scan\n",
        "      Get WiFi APs locations heard in this scan\n",
        "      Get the RSS from each AP\n",
        "      Normalize the RSS vector to sum to 1 (divide each number in the vector by the sum of all the numbers in the vector)\n",
        "      Get the weighted centroid (weighted average) of APs locations to be the estimated location\n",
        "      Get the localization error as the Euclidean distance between GT location and the estimated location\n",
        "\n",
        "2. Draw the CDF for the localization error\n",
        "\n",
        "'''"
      ],
      "execution_count": null,
      "outputs": []
    },
    {
      "cell_type": "markdown",
      "metadata": {
        "id": "yPQ7c1UOPKDW"
      },
      "source": [
        "# 3. Requirements\n",
        "It is required to implement the following,\n",
        "*   Parse the proposed files and load the important information\n",
        "*   Implement the Centroid and the Weighted Centroid techniques\n",
        "*   Draw the Cumulative distribution function (CDF) for the distance error using Centroid and WCentroid given the proposed test data.\n",
        "\n",
        "\n",
        "# 5. Possible resources\n",
        "\n",
        "\n",
        "*   [Normalization](https://math.stackexchange.com/questions/278418/normalize-values-to-sum-1-but-keeping-their-weights)\n",
        "*   [Draw CDF in Python](https://stackoverflow.com/questions/15408371/cumulative-distribution-plots-python)\n",
        "\n",
        "# 6. Final notes\n",
        "\n",
        "*   It is reuired to deliver the notebook with the Centroid implementations, the CDF and the error statistics (mean and median).\n",
        "*   Assignment delivery date is on Tuesday **Mar 16**.\n",
        "\n",
        "\n",
        "\n",
        "\n",
        "\n",
        "\n",
        "\n"
      ]
    }
  ]
}